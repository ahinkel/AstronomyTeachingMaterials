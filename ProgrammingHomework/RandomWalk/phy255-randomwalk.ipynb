{
 "cells": [
  {
   "cell_type": "markdown",
   "id": "9818752a",
   "metadata": {
    "papermill": {
     "duration": 0.003844,
     "end_time": "2024-05-13T15:11:57.456787",
     "exception": false,
     "start_time": "2024-05-13T15:11:57.452943",
     "status": "completed"
    },
    "tags": []
   },
   "source": [
    "# PHY-255 Control Flow Homework\n",
    "\n",
    "\n",
    "This notebook is part of an open-source, introductory astronomy course that introduces python programming.  For more information, please see [this link.](https://github.com/ahinkel/AstronomyTeachingMaterials)"
   ]
  },
  {
   "cell_type": "code",
   "execution_count": 1,
   "id": "e5817919",
   "metadata": {
    "_cell_guid": "b1076dfc-b9ad-4769-8c92-a6c4dae69d19",
    "_uuid": "8f2839f25d086af736a60e9eeb907d3b93b6e0e5",
    "execution": {
     "iopub.execute_input": "2024-05-13T15:11:57.465465Z",
     "iopub.status.busy": "2024-05-13T15:11:57.465058Z",
     "iopub.status.idle": "2024-05-13T15:11:58.507669Z",
     "shell.execute_reply": "2024-05-13T15:11:58.506477Z"
    },
    "papermill": {
     "duration": 1.050429,
     "end_time": "2024-05-13T15:11:58.510717",
     "exception": false,
     "start_time": "2024-05-13T15:11:57.460288",
     "status": "completed"
    },
    "tags": []
   },
   "outputs": [],
   "source": [
    "# Python 3 environment \n",
    "import numpy as np # linear algebra\n",
    "import pandas as pd # data processing, CSV file I/O (e.g. pd.read_csv)\n",
    "import matplotlib.pyplot as plt"
   ]
  },
  {
   "cell_type": "markdown",
   "id": "ba457ba5",
   "metadata": {
    "papermill": {
     "duration": 0.0031,
     "end_time": "2024-05-13T15:11:58.517733",
     "exception": false,
     "start_time": "2024-05-13T15:11:58.514633",
     "status": "completed"
    },
    "tags": []
   },
   "source": [
    "## The Random Walk\n",
    "\n",
    "Today's homework will involve writing code to create a random walk.  A random walk is essentially any motion that does not follow a specific pattern.  While this type of motion may seem chaotic and impossible to predict, there are a few things that tend to be true *on average*.  For example, mathematicians can predict where -- on average -- a person will end up after randomly going forward or backward a step.\n",
    "\n",
    "Random walks appear everywhere in physics and astronomy, and even show up in finance and sports!  Stock prices, basketball scores, the path of light as it bounces from the center of the Sun towards the surface, and the path of an air molecule can all be modeled as random walks.\n",
    "\n",
    "A one-dimensional random walk is sufficient for understanding the general idea.  The idea is this:\n",
    "- A person starts out on a number line at x = 0.\n",
    "- The person flips a coin and, if it is heads, takes a step in the positive direction, and if it is tails, takes a step in the negative direction.\n",
    "- After each step, we will record the person's position.\n",
    "- After some large number of steps, it is interesting to map the person's path over time.\n"
   ]
  },
  {
   "cell_type": "code",
   "execution_count": 2,
   "id": "8dadf3a2",
   "metadata": {
    "execution": {
     "iopub.execute_input": "2024-05-13T15:11:58.527195Z",
     "iopub.status.busy": "2024-05-13T15:11:58.526571Z",
     "iopub.status.idle": "2024-05-13T15:11:58.532323Z",
     "shell.execute_reply": "2024-05-13T15:11:58.530868Z"
    },
    "papermill": {
     "duration": 0.013958,
     "end_time": "2024-05-13T15:11:58.535189",
     "exception": false,
     "start_time": "2024-05-13T15:11:58.521231",
     "status": "completed"
    },
    "tags": []
   },
   "outputs": [],
   "source": [
    "numberOfSteps = 1000 #the number of random steps to take\n",
    "x_init = 0 #Let's start out at x = 0"
   ]
  },
  {
   "cell_type": "code",
   "execution_count": 3,
   "id": "ceb59f46",
   "metadata": {
    "execution": {
     "iopub.execute_input": "2024-05-13T15:11:58.544271Z",
     "iopub.status.busy": "2024-05-13T15:11:58.543823Z",
     "iopub.status.idle": "2024-05-13T15:11:58.550903Z",
     "shell.execute_reply": "2024-05-13T15:11:58.549339Z"
    },
    "papermill": {
     "duration": 0.015307,
     "end_time": "2024-05-13T15:11:58.554039",
     "exception": false,
     "start_time": "2024-05-13T15:11:58.538732",
     "status": "completed"
    },
    "tags": []
   },
   "outputs": [],
   "source": [
    "def coinFlip():\n",
    "    randomNumber = np.random.uniform()\n",
    "    if randomNumber >= 0.5:\n",
    "        result = \"Heads\"\n",
    "    else:\n",
    "        result = \"Tails\"\n",
    "    return result"
   ]
  },
  {
   "cell_type": "code",
   "execution_count": 4,
   "id": "61a3453f",
   "metadata": {
    "execution": {
     "iopub.execute_input": "2024-05-13T15:11:58.563173Z",
     "iopub.status.busy": "2024-05-13T15:11:58.562716Z",
     "iopub.status.idle": "2024-05-13T15:11:58.570379Z",
     "shell.execute_reply": "2024-05-13T15:11:58.568841Z"
    },
    "papermill": {
     "duration": 0.015359,
     "end_time": "2024-05-13T15:11:58.573108",
     "exception": false,
     "start_time": "2024-05-13T15:11:58.557749",
     "status": "completed"
    },
    "tags": []
   },
   "outputs": [],
   "source": [
    "timeLog = [0]\n",
    "positionLog = [x_init]\n",
    "currentPosition = x_init\n",
    "for i in range(1, numberOfSteps):\n",
    "    # Then, randomly decide to step forward or backward in that direction by coin flip\n",
    "    # If tails, go back 1 (i.e., subtract one). If heads, go forward 1 (i.e., add one)\n",
    "    #[YOUR CODE HERE]\n",
    "    # Now append the result to our lists that log the position over time:\n",
    "    timeLog.append(i)\n",
    "    positionLog.append(currentPosition)\n",
    "    "
   ]
  },
  {
   "cell_type": "markdown",
   "id": "e6b75307",
   "metadata": {
    "papermill": {
     "duration": 0.003322,
     "end_time": "2024-05-13T15:11:58.580777",
     "exception": false,
     "start_time": "2024-05-13T15:11:58.577455",
     "status": "completed"
    },
    "tags": []
   },
   "source": [
    "### The logs named timeLog and positionLog contain the position of the person at each time (step).  Let's visualize this in the next cell."
   ]
  },
  {
   "cell_type": "code",
   "execution_count": 5,
   "id": "36a7ecf9",
   "metadata": {
    "execution": {
     "iopub.execute_input": "2024-05-13T15:11:58.589613Z",
     "iopub.status.busy": "2024-05-13T15:11:58.589209Z",
     "iopub.status.idle": "2024-05-13T15:11:58.594712Z",
     "shell.execute_reply": "2024-05-13T15:11:58.593470Z"
    },
    "papermill": {
     "duration": 0.013316,
     "end_time": "2024-05-13T15:11:58.597637",
     "exception": false,
     "start_time": "2024-05-13T15:11:58.584321",
     "status": "completed"
    },
    "tags": []
   },
   "outputs": [],
   "source": [
    "#Plot your results:\n",
    "#[YOUR CODE HERE]"
   ]
  }
 ],
 "metadata": {
  "kaggle": {
   "accelerator": "none",
   "dataSources": [],
   "dockerImageVersionId": 30698,
   "isGpuEnabled": false,
   "isInternetEnabled": true,
   "language": "python",
   "sourceType": "notebook"
  },
  "kernelspec": {
   "display_name": "Python 3",
   "language": "python",
   "name": "python3"
  },
  "language_info": {
   "codemirror_mode": {
    "name": "ipython",
    "version": 3
   },
   "file_extension": ".py",
   "mimetype": "text/x-python",
   "name": "python",
   "nbconvert_exporter": "python",
   "pygments_lexer": "ipython3",
   "version": "3.10.13"
  },
  "papermill": {
   "default_parameters": {},
   "duration": 4.925584,
   "end_time": "2024-05-13T15:11:59.123402",
   "environment_variables": {},
   "exception": null,
   "input_path": "__notebook__.ipynb",
   "output_path": "__notebook__.ipynb",
   "parameters": {},
   "start_time": "2024-05-13T15:11:54.197818",
   "version": "2.5.0"
  }
 },
 "nbformat": 4,
 "nbformat_minor": 5
}
