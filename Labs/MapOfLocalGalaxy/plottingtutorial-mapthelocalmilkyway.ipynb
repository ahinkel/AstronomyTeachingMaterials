{
 "cells": [
  {
   "cell_type": "markdown",
   "id": "7e4c840a",
   "metadata": {
    "papermill": {
     "duration": 0.005655,
     "end_time": "2023-12-29T19:08:59.090214",
     "exception": false,
     "start_time": "2023-12-29T19:08:59.084559",
     "status": "completed"
    },
    "tags": []
   },
   "source": [
    "# Mapping the Local Milky Way with Gaia Space Telescope Data\n",
    "\n",
    "This notebook introduces Galactic coordinate systems, variable assignment, and basic data visualization.  It is part of an ongoing series of activities using Gaia Space Telescope Data to help build introductory level astronomy content knowledge and programming skills.  \n",
    "\n",
    "Students are given 6 interesting planetary systems to locate in the nearby region of the Milky Way.\n",
    "\n",
    "The positions of the 6 star systems are found via Gaia DR3's object search feature."
   ]
  },
  {
   "cell_type": "code",
   "execution_count": 1,
   "id": "8dcbc440",
   "metadata": {
    "_cell_guid": "b1076dfc-b9ad-4769-8c92-a6c4dae69d19",
    "_uuid": "8f2839f25d086af736a60e9eeb907d3b93b6e0e5",
    "execution": {
     "iopub.execute_input": "2023-12-29T19:08:59.105288Z",
     "iopub.status.busy": "2023-12-29T19:08:59.103965Z",
     "iopub.status.idle": "2023-12-29T19:09:00.142393Z",
     "shell.execute_reply": "2023-12-29T19:09:00.141208Z"
    },
    "papermill": {
     "duration": 1.048053,
     "end_time": "2023-12-29T19:09:00.145361",
     "exception": false,
     "start_time": "2023-12-29T19:08:59.097308",
     "status": "completed"
    },
    "tags": []
   },
   "outputs": [],
   "source": [
    "# Python 3 environment\n",
    "\n",
    "import numpy as np   # linear algebra\n",
    "import pandas as pd  # data processing, CSV file I/O (e.g. pd.read_csv)\n",
    "import matplotlib.pyplot as plt # plotting\n"
   ]
  },
  {
   "cell_type": "markdown",
   "id": "ab40d723",
   "metadata": {
    "papermill": {
     "duration": 0.004552,
     "end_time": "2023-12-29T19:09:00.154875",
     "exception": false,
     "start_time": "2023-12-29T19:09:00.150323",
     "status": "completed"
    },
    "tags": []
   },
   "source": [
    "## Data Pre-processing (you can ignore this):"
   ]
  },
  {
   "cell_type": "code",
   "execution_count": 2,
   "id": "a6b7d35d",
   "metadata": {
    "execution": {
     "iopub.execute_input": "2023-12-29T19:09:00.166551Z",
     "iopub.status.busy": "2023-12-29T19:09:00.165989Z",
     "iopub.status.idle": "2023-12-29T19:09:00.279339Z",
     "shell.execute_reply": "2023-12-29T19:09:00.278194Z"
    },
    "papermill": {
     "duration": 0.12324,
     "end_time": "2023-12-29T19:09:00.282904",
     "exception": false,
     "start_time": "2023-12-29T19:09:00.159664",
     "status": "completed"
    },
    "tags": []
   },
   "outputs": [],
   "source": [
    "#Read in the data file\n",
    "data = pd.read_csv(\"/kaggle/input/galacticcoordswithgaia/gaiaDataNearSun.csv\")\n",
    "\n",
    "#Negative parallaxes are unphysical -- they are mismeasured.  Let's remove them.\n",
    "data = data.loc[data.parallax > 0, :]\n",
    "\n",
    "#Now let's convert parallax measurements into distances:\n",
    "data['distance'] = 1.0/data.parallax #in kiloparsecs\n",
    "\n",
    "#conversion factor degrees to radians:\n",
    "convDEG2RAD = 3.141592/180.0\n",
    "\n",
    "# Galactic Recatngular Coordinates:\n",
    "data['X'] = data.distance * np.cos(data.b*convDEG2RAD) * np.cos(data.l*convDEG2RAD) - 8.00 #-8 kpc accounts for Sun's distance from Galactic Center (roughly)\n",
    "data['Y'] = data.distance * np.cos(data.b*convDEG2RAD) * np.sin(data.l*convDEG2RAD)\n",
    "data['Z'] = data.distance * np.sin(data.b*convDEG2RAD)"
   ]
  },
  {
   "cell_type": "code",
   "execution_count": 3,
   "id": "0b3c370b",
   "metadata": {
    "execution": {
     "iopub.execute_input": "2023-12-29T19:09:00.302688Z",
     "iopub.status.busy": "2023-12-29T19:09:00.300645Z",
     "iopub.status.idle": "2023-12-29T19:09:00.334198Z",
     "shell.execute_reply": "2023-12-29T19:09:00.332952Z"
    },
    "papermill": {
     "duration": 0.044063,
     "end_time": "2023-12-29T19:09:00.338054",
     "exception": false,
     "start_time": "2023-12-29T19:09:00.293991",
     "status": "completed"
    },
    "tags": []
   },
   "outputs": [
    {
     "data": {
      "text/html": [
       "<div>\n",
       "<style scoped>\n",
       "    .dataframe tbody tr th:only-of-type {\n",
       "        vertical-align: middle;\n",
       "    }\n",
       "\n",
       "    .dataframe tbody tr th {\n",
       "        vertical-align: top;\n",
       "    }\n",
       "\n",
       "    .dataframe thead th {\n",
       "        text-align: right;\n",
       "    }\n",
       "</style>\n",
       "<table border=\"1\" class=\"dataframe\">\n",
       "  <thead>\n",
       "    <tr style=\"text-align: right;\">\n",
       "      <th></th>\n",
       "      <th>parallax</th>\n",
       "      <th>l</th>\n",
       "      <th>b</th>\n",
       "      <th>distance</th>\n",
       "      <th>X</th>\n",
       "      <th>Y</th>\n",
       "      <th>Z</th>\n",
       "    </tr>\n",
       "  </thead>\n",
       "  <tbody>\n",
       "    <tr>\n",
       "      <th>8</th>\n",
       "      <td>4.361050</td>\n",
       "      <td>102.540726</td>\n",
       "      <td>22.150772</td>\n",
       "      <td>0.229303</td>\n",
       "      <td>-8.046114</td>\n",
       "      <td>0.207312</td>\n",
       "      <td>0.086457</td>\n",
       "    </tr>\n",
       "    <tr>\n",
       "      <th>14</th>\n",
       "      <td>3.848747</td>\n",
       "      <td>101.339751</td>\n",
       "      <td>25.568407</td>\n",
       "      <td>0.259825</td>\n",
       "      <td>-8.046085</td>\n",
       "      <td>0.229805</td>\n",
       "      <td>0.112137</td>\n",
       "    </tr>\n",
       "    <tr>\n",
       "      <th>18</th>\n",
       "      <td>4.481269</td>\n",
       "      <td>105.135384</td>\n",
       "      <td>14.431055</td>\n",
       "      <td>0.223151</td>\n",
       "      <td>-8.056426</td>\n",
       "      <td>0.208614</td>\n",
       "      <td>0.055613</td>\n",
       "    </tr>\n",
       "    <tr>\n",
       "      <th>19</th>\n",
       "      <td>5.357165</td>\n",
       "      <td>333.502588</td>\n",
       "      <td>-14.510419</td>\n",
       "      <td>0.186666</td>\n",
       "      <td>-7.838271</td>\n",
       "      <td>-0.080626</td>\n",
       "      <td>-0.046770</td>\n",
       "    </tr>\n",
       "    <tr>\n",
       "      <th>21</th>\n",
       "      <td>3.647845</td>\n",
       "      <td>102.827615</td>\n",
       "      <td>26.384531</td>\n",
       "      <td>0.274134</td>\n",
       "      <td>-8.054523</td>\n",
       "      <td>0.239449</td>\n",
       "      <td>0.121823</td>\n",
       "    </tr>\n",
       "  </tbody>\n",
       "</table>\n",
       "</div>"
      ],
      "text/plain": [
       "    parallax           l          b  distance         X         Y         Z\n",
       "8   4.361050  102.540726  22.150772  0.229303 -8.046114  0.207312  0.086457\n",
       "14  3.848747  101.339751  25.568407  0.259825 -8.046085  0.229805  0.112137\n",
       "18  4.481269  105.135384  14.431055  0.223151 -8.056426  0.208614  0.055613\n",
       "19  5.357165  333.502588 -14.510419  0.186666 -7.838271 -0.080626 -0.046770\n",
       "21  3.647845  102.827615  26.384531  0.274134 -8.054523  0.239449  0.121823"
      ]
     },
     "execution_count": 3,
     "metadata": {},
     "output_type": "execute_result"
    }
   ],
   "source": [
    "data.head()"
   ]
  },
  {
   "cell_type": "markdown",
   "id": "3d18233a",
   "metadata": {
    "papermill": {
     "duration": 0.00782,
     "end_time": "2023-12-29T19:09:00.352006",
     "exception": false,
     "start_time": "2023-12-29T19:09:00.344186",
     "status": "completed"
    },
    "tags": []
   },
   "source": [
    "## A first plot:"
   ]
  },
  {
   "cell_type": "code",
   "execution_count": 4,
   "id": "54850e6f",
   "metadata": {
    "execution": {
     "iopub.execute_input": "2023-12-29T19:09:00.368975Z",
     "iopub.status.busy": "2023-12-29T19:09:00.368153Z",
     "iopub.status.idle": "2023-12-29T19:09:00.764744Z",
     "shell.execute_reply": "2023-12-29T19:09:00.763564Z"
    },
    "papermill": {
     "duration": 0.407853,
     "end_time": "2023-12-29T19:09:00.767441",
     "exception": false,
     "start_time": "2023-12-29T19:09:00.359588",
     "status": "completed"
    },
    "tags": []
   },
   "outputs": [
    {
     "data": {
      "image/png": "[encoded data removed]",
      "text/plain": [
       "<Figure size 640x480 with 1 Axes>"
      ]
     },
     "metadata": {},
     "output_type": "display_data"
    }
   ],
   "source": [
    "#This plot has been done for you. run this cell to see the result!\n",
    "plt.plot(data.X, data.Y, ',') #All of the stars within 0.25 kpc of the Sun (~815.4 light years)\n",
    "plt.plot(-8.00, 0, 'y+') #The Sun!\n",
    "plt.xlabel(\"X (kpc)\") #kpc = kiloparsec = 1,000 parsec.  1 parsec is about 3.26 light years.\n",
    "plt.ylabel(\"Y (kpc)\")\n",
    "plt.gca().set_aspect('equal')\n",
    "plt.legend(['Gaia Data', 'Sun (You are Here)'])\n",
    "plt.show()"
   ]
  },
  {
   "cell_type": "markdown",
   "id": "8b15737c",
   "metadata": {
    "papermill": {
     "duration": 0.00589,
     "end_time": "2023-12-29T19:09:00.779091",
     "exception": false,
     "start_time": "2023-12-29T19:09:00.773201",
     "status": "completed"
    },
    "tags": []
   },
   "source": [
    "## A second plot:"
   ]
  },
  {
   "cell_type": "code",
   "execution_count": 5,
   "id": "7350d8cc",
   "metadata": {
    "execution": {
     "iopub.execute_input": "2023-12-29T19:09:00.793498Z",
     "iopub.status.busy": "2023-12-29T19:09:00.793060Z",
     "iopub.status.idle": "2023-12-29T19:09:00.798131Z",
     "shell.execute_reply": "2023-12-29T19:09:00.796941Z"
    },
    "papermill": {
     "duration": 0.015676,
     "end_time": "2023-12-29T19:09:00.800870",
     "exception": false,
     "start_time": "2023-12-29T19:09:00.785194",
     "status": "completed"
    },
    "tags": []
   },
   "outputs": [],
   "source": [
    "# Now it's your turn!  \n",
    "# Create another plot showing Y on the horizontal axis and Z on the vertical aixs.\n",
    "\n",
    "#[YOUR CODE HERE]"
   ]
  },
  {
   "cell_type": "markdown",
   "id": "4c0f1f29",
   "metadata": {
    "papermill": {
     "duration": 0.005982,
     "end_time": "2023-12-29T19:09:00.812873",
     "exception": false,
     "start_time": "2023-12-29T19:09:00.806891",
     "status": "completed"
    },
    "tags": []
   },
   "source": [
    "## A third plot:\n",
    "\n",
    "Stories about discoveries in space are often hard to place into context.  Where are the discoveries in relation to the Sun and the broader Milky Way Galaxy?  For this portion of the lab, you will plot the positions of 6 star systems that have interesting discoveries associated with them.  Plot them in addition to the stars in plot 1.  Also, plot the Sun for context.\n",
    "\n",
    "\n",
    "### 1.  [Kepler-22 star system](https://exoplanets.nasa.gov/exoplanet-catalog/1599/kepler-22b/)\n",
    "The Kepler-22 star system is home to an exoplanet dubbed Kepler-22b, potentially within the habitable zone of its sun-like star. (Note: habitable zone means liquid water *could* exist on the planet -- it does not mean there is confirmed life on the planet.)  Discovered in 2011, Kepler-22b may be a \"super-Earth\" planet -- a planet kind of like Earth but around two times larger in diameter.  It may even be covered in a planet-wide ocean!  It is approximately 200 parsecs away from the Sun with coordinates: X = -7.9640 kpc, Y = 0.1866 kpc, Z = 0.0538 kpc.\n",
    "\n",
    "### 2.  [TRAPPIST-1 star system](https://exoplanets.nasa.gov/alien-worlds/exoplanet-travel-bureau/trappist-1e-guided-tour/)\n",
    "The TRAPPIST-1 star system is home to SEVEN exoplanets all orbiting closer to their star than Mercury does to the Sun!  However, because the star is a cooler M-type Red Dwarf, some of the 7 planets fall into the habitable zone.  Indeed, the planets are clustered so closely together around their host star that you'd be able to see all of the other planets from the surface of one of them, not too dissimilar from how we see the moon!  The link above takes you on a guided tour through an artist's impression of the system.  The coordinates for the TRAPPIST-1 system are X = -7.9976 kpc, Y = 0.0064 kpc, Z = -0.0104 kpc.\n",
    "\n",
    "### 3.  [PDS-70 star system](https://www.forbes.com/sites/jamiecartereurope/2023/07/20/a-double-planet-may-exist-400-light-years-from-earth-say-scientists/?sh=35dde7427dbd)\n",
    "The PDS-70 star system is rather unusual.  There are at least two exoplanets in the system, but recently evidence for a third planet has been found.  However, the third planet would share the exact same orbit as one of the other already known planets!  While it is not yet clear if this third planet exists or not, its position places it a very special location: a Lagrange Point.  Material can get trapped in these special locations -- Jupiter has thousands of asteroids (called \"Trojan Asteroids\") trapped in its Lagrange Points!  Material trapped in these locations share an orbit with the planet.  The PDS-70 system is located at X = -7.9210 kpc, Y = -0.0709 kpc, Z = 0.0370 kpc.\n",
    "\n",
    "### 4.  [Kepler-186 star system](https://exoplanets.nasa.gov/resources/198/kepler-186f-the-first-earth-size-planet-in-the-habitable-zone-artists-concept/)\n",
    "The Kepler-186 star system contains an exoplanet with the designation Kepler-186f.  Kepler-186f is one of the closest exoplanets in size to the Earth, and orbits in its star's habitable zone.  Indeed, it is the first discovered instance of an Earth-sized world orbiting in a star's habitable zone.  Its coordinates are X = -7.9650 kpc, Y = 0.1722 kpc, Z = 0.0252 kpc.\n",
    "\n",
    "### 5.  [55 Cancri star system](https://exoplanets.nasa.gov/alien-worlds/exoplanet-travel-bureau/cancri-e-guided-tour/)\n",
    "The 55 Cancri star system is home to 55 Cancri e, a so-called \"lava world\" exoplanet.  In fact, 55 Cancri e orbits so close to its host star that it is likely covered in a planet-wide ocean of molten rock.  The lava planet is so close to its star that a 55 Cancri e year is only about 18 hours long!  It is about two times larger in diameter than Earth.  The coordinates for the 55 Cancri system are X = -8.0095 kpc, Y = -0.0029 kpc, Z = 0.0077 kpc.\n",
    "\n",
    "### 6.  [TOI-700 star system](https://exoplanets.nasa.gov/exoplanet-catalog/8729/toi-700-e/)\n",
    "TOI-700 is a star system with four planets located about 31 parsecs from the Sun. (Note: TOI stands for TESS Object of Interest. TESS is a mission that detects dips in the brightness of stars when an exoplanet passes between the Star and Earth.)  One exoplanet in this system, TOI-700 e, orbits right on the inner edge of the star's habitable zone.  However, the orbit is not perfectly circular so the planet spends some time in the habitable zone and the other half of its orbit slightly too close to its star.  It is unclear how exactly this could affect the habitability of the planet -- imagine for a moment what it'd be like to live on such a world!  The coordinates for the TOI-700 system are X = -7.9974 kpc, Y = -0.0276 kpc, Z = -0.0141 kpc.\n"
   ]
  },
  {
   "cell_type": "code",
   "execution_count": 6,
   "id": "f48a943f",
   "metadata": {
    "execution": {
     "iopub.execute_input": "2023-12-29T19:09:00.826973Z",
     "iopub.status.busy": "2023-12-29T19:09:00.826153Z",
     "iopub.status.idle": "2023-12-29T19:09:00.832663Z",
     "shell.execute_reply": "2023-12-29T19:09:00.831375Z"
    },
    "papermill": {
     "duration": 0.016901,
     "end_time": "2023-12-29T19:09:00.835528",
     "exception": false,
     "start_time": "2023-12-29T19:09:00.818627",
     "status": "completed"
    },
    "tags": []
   },
   "outputs": [],
   "source": [
    "# Assign variables for the positions of the six star systems in your lab assignment.\n",
    "# The first has been completed for you:\n",
    "\n",
    "x_k22, y_k22, z_k22 = -7.9640, 0.1866, 0.0538 #Units: kiloparsec\n",
    "#[YOUR CODE HERE]"
   ]
  },
  {
   "cell_type": "code",
   "execution_count": 7,
   "id": "1b23f182",
   "metadata": {
    "execution": {
     "iopub.execute_input": "2023-12-29T19:09:00.849729Z",
     "iopub.status.busy": "2023-12-29T19:09:00.849002Z",
     "iopub.status.idle": "2023-12-29T19:09:00.854083Z",
     "shell.execute_reply": "2023-12-29T19:09:00.852941Z"
    },
    "papermill": {
     "duration": 0.015068,
     "end_time": "2023-12-29T19:09:00.856653",
     "exception": false,
     "start_time": "2023-12-29T19:09:00.841585",
     "status": "completed"
    },
    "tags": []
   },
   "outputs": [],
   "source": [
    "# Now plot a map of the local Milky Way like in plot #1 \n",
    "# and plot the positions of the Sun and the six star systems in your lab assignment\n",
    "\n",
    "#[YOUR CODE HERE]"
   ]
  },
  {
   "cell_type": "markdown",
   "id": "2e04b8ea",
   "metadata": {
    "papermill": {
     "duration": 0.005686,
     "end_time": "2023-12-29T19:09:00.868725",
     "exception": false,
     "start_time": "2023-12-29T19:09:00.863039",
     "status": "completed"
    },
    "tags": []
   },
   "source": [
    "## A fourth plot:"
   ]
  },
  {
   "cell_type": "code",
   "execution_count": 8,
   "id": "088a3fe8",
   "metadata": {
    "execution": {
     "iopub.execute_input": "2023-12-29T19:09:00.883514Z",
     "iopub.status.busy": "2023-12-29T19:09:00.883103Z",
     "iopub.status.idle": "2023-12-29T19:09:00.888232Z",
     "shell.execute_reply": "2023-12-29T19:09:00.887035Z"
    },
    "papermill": {
     "duration": 0.016212,
     "end_time": "2023-12-29T19:09:00.890900",
     "exception": false,
     "start_time": "2023-12-29T19:09:00.874688",
     "status": "completed"
    },
    "tags": []
   },
   "outputs": [],
   "source": [
    "# Now plot a map of the local Milky Way like in plot #2\n",
    "# and plot the positions of the Sun and the six star systems in your lab assignment\n",
    "\n",
    "#[YOUR CODE HERE]"
   ]
  }
 ],
 "metadata": {
  "kaggle": {
   "accelerator": "none",
   "dataSources": [
    {
     "datasetId": 3754425,
     "sourceId": 6495792,
     "sourceType": "datasetVersion"
    }
   ],
   "dockerImageVersionId": 30558,
   "isGpuEnabled": false,
   "isInternetEnabled": true,
   "language": "python",
   "sourceType": "notebook"
  },
  "kernelspec": {
   "display_name": "Python 3",
   "language": "python",
   "name": "python3"
  },
  "language_info": {
   "codemirror_mode": {
    "name": "ipython",
    "version": 3
   },
   "file_extension": ".py",
   "mimetype": "text/x-python",
   "name": "python",
   "nbconvert_exporter": "python",
   "pygments_lexer": "ipython3",
   "version": "3.10.12"
  },
  "papermill": {
   "default_parameters": {},
   "duration": 7.249129,
   "end_time": "2023-12-29T19:09:01.520644",
   "environment_variables": {},
   "exception": null,
   "input_path": "__notebook__.ipynb",
   "output_path": "__notebook__.ipynb",
   "parameters": {},
   "start_time": "2023-12-29T19:08:54.271515",
   "version": "2.4.0"
  }
 },
 "nbformat": 4,
 "nbformat_minor": 5
}
