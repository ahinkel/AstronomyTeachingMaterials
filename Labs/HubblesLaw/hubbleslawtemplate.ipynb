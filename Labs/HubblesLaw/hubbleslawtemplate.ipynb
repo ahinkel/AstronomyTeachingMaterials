{
 "cells": [
  {
   "cell_type": "markdown",
   "id": "96f17c75",
   "metadata": {
    "papermill": {
     "duration": 0.004793,
     "end_time": "2024-04-23T15:23:20.374289",
     "exception": false,
     "start_time": "2024-04-23T15:23:20.369496",
     "status": "completed"
    },
    "tags": []
   },
   "source": [
    "# Hubble's Law Lab\n",
    "\n",
    "This notebook is part of an ongoing series of activities using data to help build introductory level astronomy content knowledge and programming skills.  For more details, please see [this link.](https://github.com/ahinkel/AstronomyTeachingMaterials/blob/main/StartHere/courseOutline.md)"
   ]
  },
  {
   "cell_type": "code",
   "execution_count": 1,
   "id": "e6830f83",
   "metadata": {
    "_cell_guid": "b1076dfc-b9ad-4769-8c92-a6c4dae69d19",
    "_uuid": "8f2839f25d086af736a60e9eeb907d3b93b6e0e5",
    "execution": {
     "iopub.execute_input": "2024-04-23T15:23:20.382215Z",
     "iopub.status.busy": "2024-04-23T15:23:20.381632Z",
     "iopub.status.idle": "2024-04-23T15:23:21.263709Z",
     "shell.execute_reply": "2024-04-23T15:23:21.262721Z"
    },
    "papermill": {
     "duration": 0.888789,
     "end_time": "2024-04-23T15:23:21.266174",
     "exception": false,
     "start_time": "2024-04-23T15:23:20.377385",
     "status": "completed"
    },
    "tags": []
   },
   "outputs": [],
   "source": [
    "# Python 3 environment \n",
    "import numpy as np # linear algebra\n",
    "import pandas as pd # data processing, CSV file I/O (e.g. pd.read_csv)\n",
    "import matplotlib.pyplot as plt # plotting"
   ]
  },
  {
   "cell_type": "code",
   "execution_count": 2,
   "id": "5f5c6d8c",
   "metadata": {
    "execution": {
     "iopub.execute_input": "2024-04-23T15:23:21.275271Z",
     "iopub.status.busy": "2024-04-23T15:23:21.274436Z",
     "iopub.status.idle": "2024-04-23T15:23:21.294652Z",
     "shell.execute_reply": "2024-04-23T15:23:21.293711Z"
    },
    "papermill": {
     "duration": 0.026711,
     "end_time": "2024-04-23T15:23:21.296909",
     "exception": false,
     "start_time": "2024-04-23T15:23:21.270198",
     "status": "completed"
    },
    "tags": []
   },
   "outputs": [],
   "source": [
    "data = pd.read_csv(\"/kaggle/input/hubble-law-astronomy-lab/simulatedHubblesLawData.csv\")"
   ]
  },
  {
   "cell_type": "code",
   "execution_count": 3,
   "id": "965e067d",
   "metadata": {
    "execution": {
     "iopub.execute_input": "2024-04-23T15:23:21.304492Z",
     "iopub.status.busy": "2024-04-23T15:23:21.304105Z",
     "iopub.status.idle": "2024-04-23T15:23:21.327630Z",
     "shell.execute_reply": "2024-04-23T15:23:21.326634Z"
    },
    "papermill": {
     "duration": 0.030006,
     "end_time": "2024-04-23T15:23:21.329934",
     "exception": false,
     "start_time": "2024-04-23T15:23:21.299928",
     "status": "completed"
    },
    "tags": []
   },
   "outputs": [
    {
     "data": {
      "text/html": [
       "<div>\n",
       "<style scoped>\n",
       "    .dataframe tbody tr th:only-of-type {\n",
       "        vertical-align: middle;\n",
       "    }\n",
       "\n",
       "    .dataframe tbody tr th {\n",
       "        vertical-align: top;\n",
       "    }\n",
       "\n",
       "    .dataframe thead th {\n",
       "        text-align: right;\n",
       "    }\n",
       "</style>\n",
       "<table border=\"1\" class=\"dataframe\">\n",
       "  <thead>\n",
       "    <tr style=\"text-align: right;\">\n",
       "      <th></th>\n",
       "      <th>apparent_magnitude</th>\n",
       "      <th>redshift</th>\n",
       "    </tr>\n",
       "  </thead>\n",
       "  <tbody>\n",
       "    <tr>\n",
       "      <th>0</th>\n",
       "      <td>16.728844</td>\n",
       "      <td>0.040526</td>\n",
       "    </tr>\n",
       "    <tr>\n",
       "      <th>1</th>\n",
       "      <td>17.002490</td>\n",
       "      <td>0.047370</td>\n",
       "    </tr>\n",
       "    <tr>\n",
       "      <th>2</th>\n",
       "      <td>17.952543</td>\n",
       "      <td>0.069776</td>\n",
       "    </tr>\n",
       "    <tr>\n",
       "      <th>3</th>\n",
       "      <td>17.241295</td>\n",
       "      <td>0.052880</td>\n",
       "    </tr>\n",
       "    <tr>\n",
       "      <th>4</th>\n",
       "      <td>17.807425</td>\n",
       "      <td>0.065662</td>\n",
       "    </tr>\n",
       "  </tbody>\n",
       "</table>\n",
       "</div>"
      ],
      "text/plain": [
       "   apparent_magnitude  redshift\n",
       "0           16.728844  0.040526\n",
       "1           17.002490  0.047370\n",
       "2           17.952543  0.069776\n",
       "3           17.241295  0.052880\n",
       "4           17.807425  0.065662"
      ]
     },
     "execution_count": 3,
     "metadata": {},
     "output_type": "execute_result"
    }
   ],
   "source": [
    "data.head()"
   ]
  },
  {
   "cell_type": "markdown",
   "id": "0c8a8404",
   "metadata": {
    "papermill": {
     "duration": 0.00285,
     "end_time": "2024-04-23T15:23:21.336104",
     "exception": false,
     "start_time": "2024-04-23T15:23:21.333254",
     "status": "completed"
    },
    "tags": []
   },
   "source": [
    "## Calculate new columns:"
   ]
  },
  {
   "cell_type": "code",
   "execution_count": 4,
   "id": "dbba4c5d",
   "metadata": {
    "execution": {
     "iopub.execute_input": "2024-04-23T15:23:21.344731Z",
     "iopub.status.busy": "2024-04-23T15:23:21.343419Z",
     "iopub.status.idle": "2024-04-23T15:23:21.348987Z",
     "shell.execute_reply": "2024-04-23T15:23:21.347876Z"
    },
    "papermill": {
     "duration": 0.012083,
     "end_time": "2024-04-23T15:23:21.351214",
     "exception": false,
     "start_time": "2024-04-23T15:23:21.339131",
     "status": "completed"
    },
    "tags": []
   },
   "outputs": [],
   "source": [
    "#[YOUR CODE HERE]"
   ]
  },
  {
   "cell_type": "markdown",
   "id": "87b42013",
   "metadata": {
    "papermill": {
     "duration": 0.002908,
     "end_time": "2024-04-23T15:23:21.357487",
     "exception": false,
     "start_time": "2024-04-23T15:23:21.354579",
     "status": "completed"
    },
    "tags": []
   },
   "source": [
    "## Plot your results:\n"
   ]
  },
  {
   "cell_type": "code",
   "execution_count": 5,
   "id": "1de8722f",
   "metadata": {
    "execution": {
     "iopub.execute_input": "2024-04-23T15:23:21.365432Z",
     "iopub.status.busy": "2024-04-23T15:23:21.364998Z",
     "iopub.status.idle": "2024-04-23T15:23:21.369284Z",
     "shell.execute_reply": "2024-04-23T15:23:21.368217Z"
    },
    "papermill": {
     "duration": 0.010594,
     "end_time": "2024-04-23T15:23:21.371241",
     "exception": false,
     "start_time": "2024-04-23T15:23:21.360647",
     "status": "completed"
    },
    "tags": []
   },
   "outputs": [],
   "source": [
    "#[YOUR CODE HERE]"
   ]
  },
  {
   "cell_type": "markdown",
   "id": "59fa44fc",
   "metadata": {
    "papermill": {
     "duration": 0.002799,
     "end_time": "2024-04-23T15:23:21.377286",
     "exception": false,
     "start_time": "2024-04-23T15:23:21.374487",
     "status": "completed"
    },
    "tags": []
   },
   "source": [
    "## Plot your results with a trend line added:"
   ]
  },
  {
   "cell_type": "code",
   "execution_count": 6,
   "id": "c5f9bec2",
   "metadata": {
    "execution": {
     "iopub.execute_input": "2024-04-23T15:23:21.385639Z",
     "iopub.status.busy": "2024-04-23T15:23:21.384543Z",
     "iopub.status.idle": "2024-04-23T15:23:21.389779Z",
     "shell.execute_reply": "2024-04-23T15:23:21.388693Z"
    },
    "papermill": {
     "duration": 0.012949,
     "end_time": "2024-04-23T15:23:21.393235",
     "exception": false,
     "start_time": "2024-04-23T15:23:21.380286",
     "status": "completed"
    },
    "tags": []
   },
   "outputs": [],
   "source": [
    "slope = 42 #change for your best guess of the slope\n",
    "\n",
    "d_line = np.linspace(50, 325, 101)\n",
    "v_line = slope*d_line"
   ]
  },
  {
   "cell_type": "code",
   "execution_count": 7,
   "id": "3b49b697",
   "metadata": {
    "execution": {
     "iopub.execute_input": "2024-04-23T15:23:21.402322Z",
     "iopub.status.busy": "2024-04-23T15:23:21.401937Z",
     "iopub.status.idle": "2024-04-23T15:23:21.652037Z",
     "shell.execute_reply": "2024-04-23T15:23:21.650913Z"
    },
    "papermill": {
     "duration": 0.257112,
     "end_time": "2024-04-23T15:23:21.654417",
     "exception": false,
     "start_time": "2024-04-23T15:23:21.397305",
     "status": "completed"
    },
    "tags": []
   },
   "outputs": [
    {
     "data": {
      "image/png": "[encoded data removed]",
      "text/plain": [
       "<Figure size 640x480 with 1 Axes>"
      ]
     },
     "metadata": {},
     "output_type": "display_data"
    }
   ],
   "source": [
    "plt.plot() #your data here\n",
    "plt.plot(d_line, v_line, '-') #this is the trend line\n",
    "plt.xlabel('')\n",
    "plt.ylabel('')\n",
    "plt.show()"
   ]
  }
 ],
 "metadata": {
  "kaggle": {
   "accelerator": "none",
   "dataSources": [
    {
     "datasetId": 4825368,
     "sourceId": 8157022,
     "sourceType": "datasetVersion"
    }
   ],
   "isGpuEnabled": false,
   "isInternetEnabled": true,
   "language": "python",
   "sourceType": "notebook"
  },
  "kernelspec": {
   "display_name": "Python 3",
   "language": "python",
   "name": "python3"
  },
  "language_info": {
   "codemirror_mode": {
    "name": "ipython",
    "version": 3
   },
   "file_extension": ".py",
   "mimetype": "text/x-python",
   "name": "python",
   "nbconvert_exporter": "python",
   "pygments_lexer": "ipython3",
   "version": "3.10.13"
  },
  "papermill": {
   "default_parameters": {},
   "duration": 4.392187,
   "end_time": "2024-04-23T15:23:22.077967",
   "environment_variables": {},
   "exception": null,
   "input_path": "__notebook__.ipynb",
   "output_path": "__notebook__.ipynb",
   "parameters": {},
   "start_time": "2024-04-23T15:23:17.685780",
   "version": "2.5.0"
  }
 },
 "nbformat": 4,
 "nbformat_minor": 5
}
