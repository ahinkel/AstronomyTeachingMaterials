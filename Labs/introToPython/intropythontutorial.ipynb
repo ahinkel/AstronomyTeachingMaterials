{
 "cells": [
  {
   "cell_type": "markdown",
   "id": "d271d574",
   "metadata": {
    "papermill": {
     "duration": 0.006362,
     "end_time": "2024-02-13T20:36:40.876282",
     "exception": false,
     "start_time": "2024-02-13T20:36:40.869920",
     "status": "completed"
    },
    "tags": []
   },
   "source": [
    "# Introduction to Python:\n",
    "\n",
    "This notebook introduces python syntax and programming concepts, including variable assignment, data types, numpy arrays, indexing, if statements, and for loops. It is part of an ongoing series of activities using Gaia Space Telescope Data to help build introductory level astronomy content knowledge and programming skills.\n",
    "\n"
   ]
  },
  {
   "cell_type": "code",
   "execution_count": 1,
   "id": "f6a7f7ed",
   "metadata": {
    "_cell_guid": "b1076dfc-b9ad-4769-8c92-a6c4dae69d19",
    "_uuid": "8f2839f25d086af736a60e9eeb907d3b93b6e0e5",
    "execution": {
     "iopub.execute_input": "2024-02-13T20:36:40.888834Z",
     "iopub.status.busy": "2024-02-13T20:36:40.888446Z",
     "iopub.status.idle": "2024-02-13T20:36:41.562303Z",
     "shell.execute_reply": "2024-02-13T20:36:41.561428Z"
    },
    "papermill": {
     "duration": 0.682422,
     "end_time": "2024-02-13T20:36:41.564573",
     "exception": false,
     "start_time": "2024-02-13T20:36:40.882151",
     "status": "completed"
    },
    "tags": []
   },
   "outputs": [],
   "source": [
    "# This Python 3 environment comes with many helpful analytics libraries installed\n",
    "# It is defined by the kaggle/python Docker image: https://github.com/kaggle/docker-python\n",
    "# For example, here's several helpful packages to load\n",
    "\n",
    "import numpy as np # linear algebra\n",
    "import pandas as pd # data processing, CSV file I/O (e.g. pd.read_csv)\n",
    "import matplotlib.pyplot as plt # Plotting\n",
    "\n",
    "# Note, anything to the right of a '#' is a comment and is not executed as code."
   ]
  },
  {
   "cell_type": "markdown",
   "id": "8a6bed21",
   "metadata": {
    "papermill": {
     "duration": 0.004747,
     "end_time": "2024-02-13T20:36:41.574600",
     "exception": false,
     "start_time": "2024-02-13T20:36:41.569853",
     "status": "completed"
    },
    "tags": []
   },
   "source": [
    "# Assigning variables:\n",
    "\n",
    "### We can assign a variable by using the \"=\" command."
   ]
  },
  {
   "cell_type": "code",
   "execution_count": 2,
   "id": "a3f2f08a",
   "metadata": {
    "execution": {
     "iopub.execute_input": "2024-02-13T20:36:41.586337Z",
     "iopub.status.busy": "2024-02-13T20:36:41.585911Z",
     "iopub.status.idle": "2024-02-13T20:36:41.589882Z",
     "shell.execute_reply": "2024-02-13T20:36:41.589115Z"
    },
    "papermill": {
     "duration": 0.012631,
     "end_time": "2024-02-13T20:36:41.592079",
     "exception": false,
     "start_time": "2024-02-13T20:36:41.579448",
     "status": "completed"
    },
    "tags": []
   },
   "outputs": [
    {
     "name": "stdout",
     "output_type": "stream",
     "text": [
      "42\n"
     ]
    }
   ],
   "source": [
    "a = 42\n",
    "\n",
    "print(a)"
   ]
  },
  {
   "cell_type": "code",
   "execution_count": 3,
   "id": "86c795b8",
   "metadata": {
    "execution": {
     "iopub.execute_input": "2024-02-13T20:36:41.603635Z",
     "iopub.status.busy": "2024-02-13T20:36:41.603341Z",
     "iopub.status.idle": "2024-02-13T20:36:41.607844Z",
     "shell.execute_reply": "2024-02-13T20:36:41.606740Z"
    },
    "papermill": {
     "duration": 0.012372,
     "end_time": "2024-02-13T20:36:41.609576",
     "exception": false,
     "start_time": "2024-02-13T20:36:41.597204",
     "status": "completed"
    },
    "tags": []
   },
   "outputs": [
    {
     "name": "stdout",
     "output_type": "stream",
     "text": [
      "Hello\n"
     ]
    }
   ],
   "source": [
    "abc = \"Hello\"\n",
    "print(abc)"
   ]
  },
  {
   "cell_type": "markdown",
   "id": "8390ecd6",
   "metadata": {
    "papermill": {
     "duration": 0.004913,
     "end_time": "2024-02-13T20:36:41.619748",
     "exception": false,
     "start_time": "2024-02-13T20:36:41.614835",
     "status": "completed"
    },
    "tags": []
   },
   "source": [
    "### you can check what type a variable is by using the type() function\n"
   ]
  },
  {
   "cell_type": "code",
   "execution_count": 4,
   "id": "518cdbce",
   "metadata": {
    "execution": {
     "iopub.execute_input": "2024-02-13T20:36:41.631700Z",
     "iopub.status.busy": "2024-02-13T20:36:41.631396Z",
     "iopub.status.idle": "2024-02-13T20:36:41.635807Z",
     "shell.execute_reply": "2024-02-13T20:36:41.634895Z"
    },
    "papermill": {
     "duration": 0.012782,
     "end_time": "2024-02-13T20:36:41.637721",
     "exception": false,
     "start_time": "2024-02-13T20:36:41.624939",
     "status": "completed"
    },
    "tags": []
   },
   "outputs": [
    {
     "name": "stdout",
     "output_type": "stream",
     "text": [
      "<class 'int'>\n",
      "<class 'str'>\n"
     ]
    }
   ],
   "source": [
    "print(type(a)) #a = 42, which is an integer. (int)\n",
    "print(type(abc)) #abc = \"Hello\", which is a string. (str)"
   ]
  },
  {
   "cell_type": "markdown",
   "id": "924b8a34",
   "metadata": {
    "papermill": {
     "duration": 0.005033,
     "end_time": "2024-02-13T20:36:41.648358",
     "exception": false,
     "start_time": "2024-02-13T20:36:41.643325",
     "status": "completed"
    },
    "tags": []
   },
   "source": [
    "### assign 3.14 to a variable named blah.  Then, print out the type of the variable named blah.\n",
    "\n",
    "### You should get a float, which is a programming term for a demical number."
   ]
  },
  {
   "cell_type": "code",
   "execution_count": 5,
   "id": "143b3c7c",
   "metadata": {
    "execution": {
     "iopub.execute_input": "2024-02-13T20:36:41.660299Z",
     "iopub.status.busy": "2024-02-13T20:36:41.659982Z",
     "iopub.status.idle": "2024-02-13T20:36:41.664028Z",
     "shell.execute_reply": "2024-02-13T20:36:41.663184Z"
    },
    "papermill": {
     "duration": 0.012155,
     "end_time": "2024-02-13T20:36:41.665775",
     "exception": false,
     "start_time": "2024-02-13T20:36:41.653620",
     "status": "completed"
    },
    "tags": []
   },
   "outputs": [],
   "source": [
    "#Your Code Below:\n"
   ]
  },
  {
   "cell_type": "markdown",
   "id": "5909c17b",
   "metadata": {
    "papermill": {
     "duration": 0.004901,
     "end_time": "2024-02-13T20:36:41.675908",
     "exception": false,
     "start_time": "2024-02-13T20:36:41.671007",
     "status": "completed"
    },
    "tags": []
   },
   "source": [
    "# Numpy Arrays:\n",
    "\n",
    "### We can also assign a list or array of numbers to a variable. \n",
    "\n",
    "### In this case, np.array([ ]) is needed in order for python to recognize that you want an array of values assigned to one variable.\n"
   ]
  },
  {
   "cell_type": "code",
   "execution_count": 6,
   "id": "5c186aa4",
   "metadata": {
    "execution": {
     "iopub.execute_input": "2024-02-13T20:36:41.688328Z",
     "iopub.status.busy": "2024-02-13T20:36:41.688012Z",
     "iopub.status.idle": "2024-02-13T20:36:41.692578Z",
     "shell.execute_reply": "2024-02-13T20:36:41.691800Z"
    },
    "papermill": {
     "duration": 0.012371,
     "end_time": "2024-02-13T20:36:41.694161",
     "exception": false,
     "start_time": "2024-02-13T20:36:41.681790",
     "status": "completed"
    },
    "tags": []
   },
   "outputs": [],
   "source": [
    "planets = np.array([\"Mercury\", \"Venus\", \"Earth\", \"Mars\", \"Jupiter\", \"Saturn\", \"Uranus\", \"Neptune\"])\n",
    "a_in_AU = np.array([0.387, 0.723, 1.000, 1.524, 5.20, 9.6, 19.2, 30]) #The semi-major axis length in AU for each planet (pg 126, 185)\n",
    "P_in_yr = np.array([0.241, 0.615, 1.000, 1.881, 11.9, 29.5, 84.0, 164.80]) #The orbital period in years for each planet (pg 126, 185)"
   ]
  },
  {
   "cell_type": "code",
   "execution_count": 7,
   "id": "09e6e8c7",
   "metadata": {
    "execution": {
     "iopub.execute_input": "2024-02-13T20:36:41.705972Z",
     "iopub.status.busy": "2024-02-13T20:36:41.705698Z",
     "iopub.status.idle": "2024-02-13T20:36:41.709824Z",
     "shell.execute_reply": "2024-02-13T20:36:41.708904Z"
    },
    "papermill": {
     "duration": 0.012094,
     "end_time": "2024-02-13T20:36:41.711595",
     "exception": false,
     "start_time": "2024-02-13T20:36:41.699501",
     "status": "completed"
    },
    "tags": []
   },
   "outputs": [
    {
     "name": "stdout",
     "output_type": "stream",
     "text": [
      "['Mercury' 'Venus' 'Earth' 'Mars' 'Jupiter' 'Saturn' 'Uranus' 'Neptune']\n"
     ]
    }
   ],
   "source": [
    "print(planets)"
   ]
  },
  {
   "cell_type": "markdown",
   "id": "d503aea2",
   "metadata": {
    "papermill": {
     "duration": 0.004893,
     "end_time": "2024-02-13T20:36:41.721709",
     "exception": false,
     "start_time": "2024-02-13T20:36:41.716816",
     "status": "completed"
    },
    "tags": []
   },
   "source": [
    "### You can get the length of the array by using the len() command\n"
   ]
  },
  {
   "cell_type": "code",
   "execution_count": 8,
   "id": "c56f7e03",
   "metadata": {
    "execution": {
     "iopub.execute_input": "2024-02-13T20:36:41.733374Z",
     "iopub.status.busy": "2024-02-13T20:36:41.732861Z",
     "iopub.status.idle": "2024-02-13T20:36:41.737190Z",
     "shell.execute_reply": "2024-02-13T20:36:41.736399Z"
    },
    "papermill": {
     "duration": 0.012017,
     "end_time": "2024-02-13T20:36:41.738755",
     "exception": false,
     "start_time": "2024-02-13T20:36:41.726738",
     "status": "completed"
    },
    "tags": []
   },
   "outputs": [
    {
     "name": "stdout",
     "output_type": "stream",
     "text": [
      "8\n"
     ]
    }
   ],
   "source": [
    "print(len(planets))"
   ]
  },
  {
   "cell_type": "markdown",
   "id": "c5eb396b",
   "metadata": {
    "papermill": {
     "duration": 0.004899,
     "end_time": "2024-02-13T20:36:41.749021",
     "exception": false,
     "start_time": "2024-02-13T20:36:41.744122",
     "status": "completed"
    },
    "tags": []
   },
   "source": [
    "### We can reference a particular value in an array by using its index.  \n",
    "\n",
    "### You can think of an index as an address where an entry resides.\n",
    "\n",
    "### In python, the first element of an array has an index of 0."
   ]
  },
  {
   "cell_type": "code",
   "execution_count": 9,
   "id": "e3f25934",
   "metadata": {
    "execution": {
     "iopub.execute_input": "2024-02-13T20:36:41.760444Z",
     "iopub.status.busy": "2024-02-13T20:36:41.760138Z",
     "iopub.status.idle": "2024-02-13T20:36:41.763991Z",
     "shell.execute_reply": "2024-02-13T20:36:41.763409Z"
    },
    "papermill": {
     "duration": 0.011562,
     "end_time": "2024-02-13T20:36:41.765627",
     "exception": false,
     "start_time": "2024-02-13T20:36:41.754065",
     "status": "completed"
    },
    "tags": []
   },
   "outputs": [
    {
     "name": "stdout",
     "output_type": "stream",
     "text": [
      "Mercury\n"
     ]
    }
   ],
   "source": [
    "print(planets[0])"
   ]
  },
  {
   "cell_type": "markdown",
   "id": "edd3d0fa",
   "metadata": {
    "papermill": {
     "duration": 0.004924,
     "end_time": "2024-02-13T20:36:41.775886",
     "exception": false,
     "start_time": "2024-02-13T20:36:41.770962",
     "status": "completed"
    },
    "tags": []
   },
   "source": [
    "### Using the facts above, print out 'Earth' from the array named planets."
   ]
  },
  {
   "cell_type": "code",
   "execution_count": 10,
   "id": "a0f352c6",
   "metadata": {
    "execution": {
     "iopub.execute_input": "2024-02-13T20:36:41.788153Z",
     "iopub.status.busy": "2024-02-13T20:36:41.787840Z",
     "iopub.status.idle": "2024-02-13T20:36:41.791478Z",
     "shell.execute_reply": "2024-02-13T20:36:41.790685Z"
    },
    "papermill": {
     "duration": 0.0118,
     "end_time": "2024-02-13T20:36:41.793019",
     "exception": false,
     "start_time": "2024-02-13T20:36:41.781219",
     "status": "completed"
    },
    "tags": []
   },
   "outputs": [],
   "source": [
    "#Your Code Below:\n"
   ]
  },
  {
   "cell_type": "markdown",
   "id": "8ddac9ca",
   "metadata": {
    "papermill": {
     "duration": 0.005024,
     "end_time": "2024-02-13T20:36:41.803522",
     "exception": false,
     "start_time": "2024-02-13T20:36:41.798498",
     "status": "completed"
    },
    "tags": []
   },
   "source": [
    "### Similarly, print out the orbital period of Saturn (this is in the P_in_yr array)"
   ]
  },
  {
   "cell_type": "code",
   "execution_count": 11,
   "id": "7dcb40c2",
   "metadata": {
    "execution": {
     "iopub.execute_input": "2024-02-13T20:36:41.815494Z",
     "iopub.status.busy": "2024-02-13T20:36:41.815186Z",
     "iopub.status.idle": "2024-02-13T20:36:41.818351Z",
     "shell.execute_reply": "2024-02-13T20:36:41.817570Z"
    },
    "papermill": {
     "duration": 0.010814,
     "end_time": "2024-02-13T20:36:41.819842",
     "exception": false,
     "start_time": "2024-02-13T20:36:41.809028",
     "status": "completed"
    },
    "tags": []
   },
   "outputs": [],
   "source": [
    "#Your Code Below:\n"
   ]
  },
  {
   "cell_type": "markdown",
   "id": "140eb857",
   "metadata": {
    "papermill": {
     "duration": 0.004949,
     "end_time": "2024-02-13T20:36:41.830226",
     "exception": false,
     "start_time": "2024-02-13T20:36:41.825277",
     "status": "completed"
    },
    "tags": []
   },
   "source": [
    "# For Loops:\n",
    "\n",
    "### for loops allow a programmer to loop through multiple different values.\n",
    "\n",
    "### For example, you can loop through the items in an array:"
   ]
  },
  {
   "cell_type": "code",
   "execution_count": 12,
   "id": "81ed4341",
   "metadata": {
    "execution": {
     "iopub.execute_input": "2024-02-13T20:36:41.841792Z",
     "iopub.status.busy": "2024-02-13T20:36:41.841474Z",
     "iopub.status.idle": "2024-02-13T20:36:41.846106Z",
     "shell.execute_reply": "2024-02-13T20:36:41.845304Z"
    },
    "papermill": {
     "duration": 0.01244,
     "end_time": "2024-02-13T20:36:41.847891",
     "exception": false,
     "start_time": "2024-02-13T20:36:41.835451",
     "status": "completed"
    },
    "tags": []
   },
   "outputs": [
    {
     "name": "stdout",
     "output_type": "stream",
     "text": [
      "0 Mercury\n",
      "1 Venus\n",
      "2 Earth\n",
      "3 Mars\n",
      "4 Jupiter\n",
      "5 Saturn\n",
      "6 Uranus\n",
      "7 Neptune\n"
     ]
    }
   ],
   "source": [
    "for i in range(0, len(planets)):\n",
    "    #We are looping through values of i from 0 up to but not including 8 (the list is 8 entries long)\n",
    "    print(i, planets[i]) # This prints the current value of i as well as the corresponding entry in the planets array"
   ]
  },
  {
   "cell_type": "markdown",
   "id": "289d2d8f",
   "metadata": {
    "papermill": {
     "duration": 0.005059,
     "end_time": "2024-02-13T20:36:41.858368",
     "exception": false,
     "start_time": "2024-02-13T20:36:41.853309",
     "status": "completed"
    },
    "tags": []
   },
   "source": [
    "# If statements:\n",
    "\n",
    "### if statements allow a programmer to run a block of code only when a specified condition is met.\n",
    "\n",
    "### After running the existing code below, try changing the value of x in the code below to see how the code responds.\n",
    "\n"
   ]
  },
  {
   "cell_type": "code",
   "execution_count": 13,
   "id": "57b2600c",
   "metadata": {
    "execution": {
     "iopub.execute_input": "2024-02-13T20:36:41.870117Z",
     "iopub.status.busy": "2024-02-13T20:36:41.869840Z",
     "iopub.status.idle": "2024-02-13T20:36:41.874227Z",
     "shell.execute_reply": "2024-02-13T20:36:41.873467Z"
    },
    "papermill": {
     "duration": 0.012352,
     "end_time": "2024-02-13T20:36:41.875956",
     "exception": false,
     "start_time": "2024-02-13T20:36:41.863604",
     "status": "completed"
    },
    "tags": []
   },
   "outputs": [
    {
     "name": "stdout",
     "output_type": "stream",
     "text": [
      "Bigger than 10!\n"
     ]
    }
   ],
   "source": [
    "x = 31\n",
    "\n",
    "if x > 10:\n",
    "    #If x is bigger than 10 this indented code will run, but the others will not.\n",
    "    print(\"Bigger than 10!\")\n",
    "elif x == 10:\n",
    "    #If x is 10 this indented code will run, but the others will not.\n",
    "    print(\"Equals 10.\")\n",
    "else:\n",
    "    #If the other cases do not run, this case will run (i.e., x is less than 10)\n",
    "    print(\"Not bigger than 10.\")"
   ]
  },
  {
   "cell_type": "markdown",
   "id": "868754ab",
   "metadata": {
    "papermill": {
     "duration": 0.0051,
     "end_time": "2024-02-13T20:36:41.886542",
     "exception": false,
     "start_time": "2024-02-13T20:36:41.881442",
     "status": "completed"
    },
    "tags": []
   },
   "source": [
    "# Combining for loops and if statements:\n",
    "\n",
    "### Try to guess what the following code will print out.  When you're ready, go ahead and run the cell below."
   ]
  },
  {
   "cell_type": "code",
   "execution_count": 14,
   "id": "527174e7",
   "metadata": {
    "execution": {
     "iopub.execute_input": "2024-02-13T20:36:41.898363Z",
     "iopub.status.busy": "2024-02-13T20:36:41.898027Z",
     "iopub.status.idle": "2024-02-13T20:36:41.903627Z",
     "shell.execute_reply": "2024-02-13T20:36:41.902714Z"
    },
    "papermill": {
     "duration": 0.013406,
     "end_time": "2024-02-13T20:36:41.905201",
     "exception": false,
     "start_time": "2024-02-13T20:36:41.891795",
     "status": "completed"
    },
    "tags": []
   },
   "outputs": [
    {
     "name": "stdout",
     "output_type": "stream",
     "text": [
      "8\n",
      "Mercury is closer to the Sun than the Earth.\n",
      "Venus is closer to the Sun than the Earth.\n",
      "Mars is further from the Sun than the Earth.\n",
      "Jupiter is further from the Sun than the Earth.\n",
      "Saturn is further from the Sun than the Earth.\n",
      "Uranus is further from the Sun than the Earth.\n",
      "Neptune is further from the Sun than the Earth.\n"
     ]
    }
   ],
   "source": [
    "NumPlanets = len(planets)\n",
    "print(NumPlanets)\n",
    "\n",
    "for i in range(0, NumPlanets):\n",
    "    if a_in_AU[i] > 1.000:\n",
    "        print(planets[i], \"is further from the Sun than the Earth.\")\n",
    "    elif a_in_AU[i] < 1.000:\n",
    "        print(planets[i], \"is closer to the Sun than the Earth.\")"
   ]
  },
  {
   "cell_type": "markdown",
   "id": "039efcd1",
   "metadata": {
    "papermill": {
     "duration": 0.005489,
     "end_time": "2024-02-13T20:36:41.916660",
     "exception": false,
     "start_time": "2024-02-13T20:36:41.911171",
     "status": "completed"
    },
    "tags": []
   },
   "source": [
    "### Why didn't the Earth get included in the above output?  Can you explain this?"
   ]
  },
  {
   "cell_type": "markdown",
   "id": "914c3789",
   "metadata": {
    "papermill": {
     "duration": 0.0052,
     "end_time": "2024-02-13T20:36:41.927391",
     "exception": false,
     "start_time": "2024-02-13T20:36:41.922191",
     "status": "completed"
    },
    "tags": []
   },
   "source": [
    "# Exercise:\n",
    "\n",
    "### Write a for loop that prints out the name of each planet along with its orbital period."
   ]
  },
  {
   "cell_type": "code",
   "execution_count": 15,
   "id": "e4d07527",
   "metadata": {
    "execution": {
     "iopub.execute_input": "2024-02-13T20:36:41.940212Z",
     "iopub.status.busy": "2024-02-13T20:36:41.939904Z",
     "iopub.status.idle": "2024-02-13T20:36:41.943655Z",
     "shell.execute_reply": "2024-02-13T20:36:41.942887Z"
    },
    "papermill": {
     "duration": 0.012267,
     "end_time": "2024-02-13T20:36:41.945194",
     "exception": false,
     "start_time": "2024-02-13T20:36:41.932927",
     "status": "completed"
    },
    "tags": []
   },
   "outputs": [],
   "source": [
    "#Your Code Below:\n"
   ]
  }
 ],
 "metadata": {
  "kaggle": {
   "accelerator": "none",
   "dataSources": [],
   "dockerImageVersionId": 30646,
   "isGpuEnabled": false,
   "isInternetEnabled": true,
   "language": "python",
   "sourceType": "notebook"
  },
  "kernelspec": {
   "display_name": "Python 3",
   "language": "python",
   "name": "python3"
  },
  "language_info": {
   "codemirror_mode": {
    "name": "ipython",
    "version": 3
   },
   "file_extension": ".py",
   "mimetype": "text/x-python",
   "name": "python",
   "nbconvert_exporter": "python",
   "pygments_lexer": "ipython3",
   "version": "3.10.13"
  },
  "papermill": {
   "default_parameters": {},
   "duration": 3.955271,
   "end_time": "2024-02-13T20:36:42.268096",
   "environment_variables": {},
   "exception": null,
   "input_path": "__notebook__.ipynb",
   "output_path": "__notebook__.ipynb",
   "parameters": {},
   "start_time": "2024-02-13T20:36:38.312825",
   "version": "2.5.0"
  }
 },
 "nbformat": 4,
 "nbformat_minor": 5
}
