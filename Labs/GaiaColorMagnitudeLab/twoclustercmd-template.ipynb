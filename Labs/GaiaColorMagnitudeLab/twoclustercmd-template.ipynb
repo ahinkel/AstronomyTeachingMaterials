{
 "cells": [
  {
   "cell_type": "markdown",
   "id": "0ab5dbb3",
   "metadata": {
    "papermill": {
     "duration": 0.004571,
     "end_time": "2023-12-22T03:13:58.564342",
     "exception": false,
     "start_time": "2023-12-22T03:13:58.559771",
     "status": "completed"
    },
    "tags": []
   },
   "source": [
    "# Lab: Determining the Relative Ages of Two Open Clusters\n",
    "\n",
    "### Thomas More University NSP-255 Lab\n",
    "\n",
    "#### Directions:\n",
    "\n",
    "Fill in code whenever you see a **\"#[YOUR CODE HERE]\"**\n",
    "\n",
    "#### Notes:\n",
    "\n",
    "- parallax - parallax measured in units of mas\n",
    "- phot_g_mean_mag - apparent magnitude\n",
    "- bp_rp - blue minus red color index"
   ]
  },
  {
   "cell_type": "code",
   "execution_count": 1,
   "id": "3d100ce9",
   "metadata": {
    "_cell_guid": "b1076dfc-b9ad-4769-8c92-a6c4dae69d19",
    "_uuid": "8f2839f25d086af736a60e9eeb907d3b93b6e0e5",
    "execution": {
     "iopub.execute_input": "2023-12-22T03:13:58.575126Z",
     "iopub.status.busy": "2023-12-22T03:13:58.574269Z",
     "iopub.status.idle": "2023-12-22T03:13:59.318355Z",
     "shell.execute_reply": "2023-12-22T03:13:59.317526Z"
    },
    "papermill": {
     "duration": 0.752216,
     "end_time": "2023-12-22T03:13:59.320885",
     "exception": false,
     "start_time": "2023-12-22T03:13:58.568669",
     "status": "completed"
    },
    "tags": []
   },
   "outputs": [],
   "source": [
    "# Python 3 environment \n",
    "\n",
    "import numpy as np # linear algebra\n",
    "import pandas as pd # data processing, CSV file I/O (e.g. pd.read_csv)\n",
    "import matplotlib.pyplot as plt # plotting"
   ]
  },
  {
   "cell_type": "markdown",
   "id": "e64a0927",
   "metadata": {
    "papermill": {
     "duration": 0.003772,
     "end_time": "2023-12-22T03:13:59.328998",
     "exception": false,
     "start_time": "2023-12-22T03:13:59.325226",
     "status": "completed"
    },
    "tags": []
   },
   "source": [
    "# Read in M67 data:"
   ]
  },
  {
   "cell_type": "code",
   "execution_count": 2,
   "id": "0a11c824",
   "metadata": {
    "execution": {
     "iopub.execute_input": "2023-12-22T03:13:59.339610Z",
     "iopub.status.busy": "2023-12-22T03:13:59.338389Z",
     "iopub.status.idle": "2023-12-22T03:13:59.360168Z",
     "shell.execute_reply": "2023-12-22T03:13:59.359124Z"
    },
    "papermill": {
     "duration": 0.029548,
     "end_time": "2023-12-22T03:13:59.362594",
     "exception": false,
     "start_time": "2023-12-22T03:13:59.333046",
     "status": "completed"
    },
    "tags": []
   },
   "outputs": [],
   "source": [
    "# The read_csv() function takes in the location of a file \n",
    "# and creates an object called a Data Frame.\n",
    "data_M67 = pd.read_csv(\"/kaggle/input/gaia-dr3-data-for-comparing-two-star-clusters/M67_filtered.csv\")"
   ]
  },
  {
   "cell_type": "code",
   "execution_count": 3,
   "id": "6c9ffb1d",
   "metadata": {
    "execution": {
     "iopub.execute_input": "2023-12-22T03:13:59.372912Z",
     "iopub.status.busy": "2023-12-22T03:13:59.372068Z",
     "iopub.status.idle": "2023-12-22T03:13:59.394202Z",
     "shell.execute_reply": "2023-12-22T03:13:59.393127Z"
    },
    "papermill": {
     "duration": 0.029821,
     "end_time": "2023-12-22T03:13:59.396599",
     "exception": false,
     "start_time": "2023-12-22T03:13:59.366778",
     "status": "completed"
    },
    "tags": []
   },
   "outputs": [
    {
     "data": {
      "text/html": [
       "<div>\n",
       "<style scoped>\n",
       "    .dataframe tbody tr th:only-of-type {\n",
       "        vertical-align: middle;\n",
       "    }\n",
       "\n",
       "    .dataframe tbody tr th {\n",
       "        vertical-align: top;\n",
       "    }\n",
       "\n",
       "    .dataframe thead th {\n",
       "        text-align: right;\n",
       "    }\n",
       "</style>\n",
       "<table border=\"1\" class=\"dataframe\">\n",
       "  <thead>\n",
       "    <tr style=\"text-align: right;\">\n",
       "      <th></th>\n",
       "      <th>parallax</th>\n",
       "      <th>phot_g_mean_mag</th>\n",
       "      <th>bp_rp</th>\n",
       "    </tr>\n",
       "  </thead>\n",
       "  <tbody>\n",
       "    <tr>\n",
       "      <th>0</th>\n",
       "      <td>1.095887</td>\n",
       "      <td>14.447882</td>\n",
       "      <td>0.835868</td>\n",
       "    </tr>\n",
       "    <tr>\n",
       "      <th>1</th>\n",
       "      <td>1.141702</td>\n",
       "      <td>13.718393</td>\n",
       "      <td>0.842082</td>\n",
       "    </tr>\n",
       "    <tr>\n",
       "      <th>2</th>\n",
       "      <td>1.130219</td>\n",
       "      <td>14.149156</td>\n",
       "      <td>0.786826</td>\n",
       "    </tr>\n",
       "    <tr>\n",
       "      <th>3</th>\n",
       "      <td>1.168392</td>\n",
       "      <td>14.359411</td>\n",
       "      <td>0.968462</td>\n",
       "    </tr>\n",
       "    <tr>\n",
       "      <th>4</th>\n",
       "      <td>1.128273</td>\n",
       "      <td>12.562445</td>\n",
       "      <td>0.712632</td>\n",
       "    </tr>\n",
       "  </tbody>\n",
       "</table>\n",
       "</div>"
      ],
      "text/plain": [
       "   parallax  phot_g_mean_mag     bp_rp\n",
       "0  1.095887        14.447882  0.835868\n",
       "1  1.141702        13.718393  0.842082\n",
       "2  1.130219        14.149156  0.786826\n",
       "3  1.168392        14.359411  0.968462\n",
       "4  1.128273        12.562445  0.712632"
      ]
     },
     "execution_count": 3,
     "metadata": {},
     "output_type": "execute_result"
    }
   ],
   "source": [
    "# We can use the .head() command to look at the first several rows of a Data Frame:\n",
    "data_M67.head()"
   ]
  },
  {
   "cell_type": "code",
   "execution_count": 4,
   "id": "679df0c2",
   "metadata": {
    "execution": {
     "iopub.execute_input": "2023-12-22T03:13:59.407072Z",
     "iopub.status.busy": "2023-12-22T03:13:59.406707Z",
     "iopub.status.idle": "2023-12-22T03:13:59.412585Z",
     "shell.execute_reply": "2023-12-22T03:13:59.411528Z"
    },
    "papermill": {
     "duration": 0.013597,
     "end_time": "2023-12-22T03:13:59.414671",
     "exception": false,
     "start_time": "2023-12-22T03:13:59.401074",
     "status": "completed"
    },
    "tags": []
   },
   "outputs": [],
   "source": [
    "# We need to calculate the distance to each star from its parallax.\n",
    "# The syntax below allows you to create a new column in your data frame:\n",
    "data_M67['distance'] = 1/data_M67.parallax \n",
    "# In this case, we create a distance column"
   ]
  },
  {
   "cell_type": "code",
   "execution_count": 5,
   "id": "c5a7309c",
   "metadata": {
    "execution": {
     "iopub.execute_input": "2023-12-22T03:13:59.424801Z",
     "iopub.status.busy": "2023-12-22T03:13:59.424454Z",
     "iopub.status.idle": "2023-12-22T03:13:59.435733Z",
     "shell.execute_reply": "2023-12-22T03:13:59.434680Z"
    },
    "papermill": {
     "duration": 0.018644,
     "end_time": "2023-12-22T03:13:59.437707",
     "exception": false,
     "start_time": "2023-12-22T03:13:59.419063",
     "status": "completed"
    },
    "tags": []
   },
   "outputs": [
    {
     "data": {
      "text/html": [
       "<div>\n",
       "<style scoped>\n",
       "    .dataframe tbody tr th:only-of-type {\n",
       "        vertical-align: middle;\n",
       "    }\n",
       "\n",
       "    .dataframe tbody tr th {\n",
       "        vertical-align: top;\n",
       "    }\n",
       "\n",
       "    .dataframe thead th {\n",
       "        text-align: right;\n",
       "    }\n",
       "</style>\n",
       "<table border=\"1\" class=\"dataframe\">\n",
       "  <thead>\n",
       "    <tr style=\"text-align: right;\">\n",
       "      <th></th>\n",
       "      <th>parallax</th>\n",
       "      <th>phot_g_mean_mag</th>\n",
       "      <th>bp_rp</th>\n",
       "      <th>distance</th>\n",
       "    </tr>\n",
       "  </thead>\n",
       "  <tbody>\n",
       "    <tr>\n",
       "      <th>0</th>\n",
       "      <td>1.095887</td>\n",
       "      <td>14.447882</td>\n",
       "      <td>0.835868</td>\n",
       "      <td>0.912503</td>\n",
       "    </tr>\n",
       "    <tr>\n",
       "      <th>1</th>\n",
       "      <td>1.141702</td>\n",
       "      <td>13.718393</td>\n",
       "      <td>0.842082</td>\n",
       "      <td>0.875885</td>\n",
       "    </tr>\n",
       "    <tr>\n",
       "      <th>2</th>\n",
       "      <td>1.130219</td>\n",
       "      <td>14.149156</td>\n",
       "      <td>0.786826</td>\n",
       "      <td>0.884785</td>\n",
       "    </tr>\n",
       "    <tr>\n",
       "      <th>3</th>\n",
       "      <td>1.168392</td>\n",
       "      <td>14.359411</td>\n",
       "      <td>0.968462</td>\n",
       "      <td>0.855877</td>\n",
       "    </tr>\n",
       "    <tr>\n",
       "      <th>4</th>\n",
       "      <td>1.128273</td>\n",
       "      <td>12.562445</td>\n",
       "      <td>0.712632</td>\n",
       "      <td>0.886310</td>\n",
       "    </tr>\n",
       "  </tbody>\n",
       "</table>\n",
       "</div>"
      ],
      "text/plain": [
       "   parallax  phot_g_mean_mag     bp_rp  distance\n",
       "0  1.095887        14.447882  0.835868  0.912503\n",
       "1  1.141702        13.718393  0.842082  0.875885\n",
       "2  1.130219        14.149156  0.786826  0.884785\n",
       "3  1.168392        14.359411  0.968462  0.855877\n",
       "4  1.128273        12.562445  0.712632  0.886310"
      ]
     },
     "execution_count": 5,
     "metadata": {},
     "output_type": "execute_result"
    }
   ],
   "source": [
    "# Let's check to see if it worked:\n",
    "data_M67.head()"
   ]
  },
  {
   "cell_type": "markdown",
   "id": "d12e7c2f",
   "metadata": {
    "papermill": {
     "duration": 0.00424,
     "end_time": "2023-12-22T03:13:59.446689",
     "exception": false,
     "start_time": "2023-12-22T03:13:59.442449",
     "status": "completed"
    },
    "tags": []
   },
   "source": [
    "# Read in NGC188 data:"
   ]
  },
  {
   "cell_type": "code",
   "execution_count": 6,
   "id": "370c0b38",
   "metadata": {
    "execution": {
     "iopub.execute_input": "2023-12-22T03:13:59.457786Z",
     "iopub.status.busy": "2023-12-22T03:13:59.457047Z",
     "iopub.status.idle": "2023-12-22T03:13:59.463505Z",
     "shell.execute_reply": "2023-12-22T03:13:59.462166Z"
    },
    "papermill": {
     "duration": 0.013744,
     "end_time": "2023-12-22T03:13:59.465194",
     "exception": true,
     "start_time": "2023-12-22T03:13:59.451450",
     "status": "failed"
    },
    "tags": []
   },
   "outputs": [
    {
     "ename": "SyntaxError",
     "evalue": "invalid syntax (2225039727.py, line 2)",
     "output_type": "error",
     "traceback": [
      "\u001b[0;36m  Cell \u001b[0;32mIn[6], line 2\u001b[0;36m\u001b[0m\n\u001b[0;31m    data_NGC188 = #[YOUR CODE HERE]\u001b[0m\n\u001b[0m                  ^\u001b[0m\n\u001b[0;31mSyntaxError\u001b[0m\u001b[0;31m:\u001b[0m invalid syntax\n"
     ]
    }
   ],
   "source": [
    "#Now its your turn! Read in the 'NGC188_filtered.csv' file just like we did for M67 above\n",
    "data_NGC188 = #[YOUR CODE HERE]"
   ]
  },
  {
   "cell_type": "code",
   "execution_count": null,
   "id": "c50d8862",
   "metadata": {
    "papermill": {
     "duration": null,
     "end_time": null,
     "exception": null,
     "start_time": null,
     "status": "pending"
    },
    "tags": []
   },
   "outputs": [],
   "source": [
    "#Let's look at the data:\n",
    "\n",
    "#[YOUR CODE HERE]"
   ]
  },
  {
   "cell_type": "code",
   "execution_count": null,
   "id": "83ba1bd5",
   "metadata": {
    "papermill": {
     "duration": null,
     "end_time": null,
     "exception": null,
     "start_time": null,
     "status": "pending"
    },
    "tags": []
   },
   "outputs": [],
   "source": [
    "#Now let's calculate the distance to the stars in NGC188:\n",
    "\n",
    "#[YOUR CODE HERE]"
   ]
  },
  {
   "cell_type": "code",
   "execution_count": null,
   "id": "ddaa5796",
   "metadata": {
    "papermill": {
     "duration": null,
     "end_time": null,
     "exception": null,
     "start_time": null,
     "status": "pending"
    },
    "tags": []
   },
   "outputs": [],
   "source": [
    "#Let's look at the data again:\n",
    "\n",
    "#[YOUR CODE HERE]"
   ]
  },
  {
   "cell_type": "markdown",
   "id": "4136a1e4",
   "metadata": {
    "papermill": {
     "duration": null,
     "end_time": null,
     "exception": null,
     "start_time": null,
     "status": "pending"
    },
    "tags": []
   },
   "source": [
    "# Calculate Absolute Magnitude"
   ]
  },
  {
   "cell_type": "code",
   "execution_count": null,
   "id": "9a85305d",
   "metadata": {
    "papermill": {
     "duration": null,
     "end_time": null,
     "exception": null,
     "start_time": null,
     "status": "pending"
    },
    "tags": []
   },
   "outputs": [],
   "source": [
    "#Note: you can take the log of a column with the following syntax:\n",
    "#np.log10(data_M67.distance/0.01)"
   ]
  },
  {
   "cell_type": "code",
   "execution_count": null,
   "id": "0c71a8ea",
   "metadata": {
    "execution": {
     "iopub.execute_input": "2023-12-22T02:53:31.311808Z",
     "iopub.status.busy": "2023-12-22T02:53:31.311359Z",
     "iopub.status.idle": "2023-12-22T02:53:31.319428Z",
     "shell.execute_reply": "2023-12-22T02:53:31.317760Z",
     "shell.execute_reply.started": "2023-12-22T02:53:31.311777Z"
    },
    "papermill": {
     "duration": null,
     "end_time": null,
     "exception": null,
     "start_time": null,
     "status": "pending"
    },
    "tags": []
   },
   "outputs": [],
   "source": [
    "#Calculate the absolute magnitude for M67 (create a new column called AbsMag)\n",
    "\n",
    "data_M67['AbsMag'] = #[YOUR CODE HERE]"
   ]
  },
  {
   "cell_type": "code",
   "execution_count": null,
   "id": "1893e4e1",
   "metadata": {
    "papermill": {
     "duration": null,
     "end_time": null,
     "exception": null,
     "start_time": null,
     "status": "pending"
    },
    "tags": []
   },
   "outputs": [],
   "source": [
    "#Calculate the absolute magnitude for NGC188 (create a new column called AbsMag)\n",
    "\n",
    "#[YOUR CODE HERE]"
   ]
  },
  {
   "cell_type": "markdown",
   "id": "fd2f2a13",
   "metadata": {
    "papermill": {
     "duration": null,
     "end_time": null,
     "exception": null,
     "start_time": null,
     "status": "pending"
    },
    "tags": []
   },
   "source": [
    "# Plot Color vs. Absolute Magnitude"
   ]
  },
  {
   "cell_type": "code",
   "execution_count": null,
   "id": "bb962904",
   "metadata": {
    "papermill": {
     "duration": null,
     "end_time": null,
     "exception": null,
     "start_time": null,
     "status": "pending"
    },
    "tags": []
   },
   "outputs": [],
   "source": [
    "plt.plot([YOUR CODE HERE], [YOUR CODE HERE], 'm,') #Plot M67 CMD\n",
    "plt.plot([YOUR CODE HERE], [YOUR CODE HERE], 'c,') #Plot NGC188 CMD\n",
    "plt.gca().invert_yaxis() #This flips the y-axis (low absolute magnitude is actually brighter)\n",
    "plt.xlabel(\"Blue-pass minus Red-pass Color (mag)\") #Creates an x axis label\n",
    "plt.ylabel(\"Absolute Magnitude (mag)\") #Creates a y axis label\n",
    "plt.title(\"Color Magnitude Diagrams for M67 and NGC 188 Star Clusters\") #Titles the plot\n",
    "plt.legend([\"M67 (magenta)\", \"NGC 188 (cyan)\"]) #Legend\n",
    "plt.show() #Show the plot"
   ]
  }
 ],
 "metadata": {
  "kaggle": {
   "accelerator": "none",
   "dataSources": [
    {
     "datasetId": 3088956,
     "sourceId": 5315294,
     "sourceType": "datasetVersion"
    }
   ],
   "dockerImageVersionId": 30626,
   "isGpuEnabled": false,
   "isInternetEnabled": true,
   "language": "python",
   "sourceType": "notebook"
  },
  "kernelspec": {
   "display_name": "Python 3",
   "language": "python",
   "name": "python3"
  },
  "language_info": {
   "codemirror_mode": {
    "name": "ipython",
    "version": 3
   },
   "file_extension": ".py",
   "mimetype": "text/x-python",
   "name": "python",
   "nbconvert_exporter": "python",
   "pygments_lexer": "ipython3",
   "version": "3.10.12"
  },
  "papermill": {
   "default_parameters": {},
   "duration": 5.169697,
   "end_time": "2023-12-22T03:13:59.888627",
   "environment_variables": {},
   "exception": true,
   "input_path": "__notebook__.ipynb",
   "output_path": "__notebook__.ipynb",
   "parameters": {},
   "start_time": "2023-12-22T03:13:54.718930",
   "version": "2.4.0"
  }
 },
 "nbformat": 4,
 "nbformat_minor": 5
}
